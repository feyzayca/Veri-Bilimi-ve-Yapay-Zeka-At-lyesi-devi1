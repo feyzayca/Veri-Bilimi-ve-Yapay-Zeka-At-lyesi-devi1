{
 "cells": [
  {
   "cell_type": "markdown",
   "id": "a52c71d2-9351-4a2f-8aed-b7331ea7b6c4",
   "metadata": {},
   "source": [
    "1. Soru"
   ]
  },
  {
   "cell_type": "code",
   "execution_count": 10,
   "id": "a6e1a650-2f91-4314-97d0-b32eac504ee3",
   "metadata": {},
   "outputs": [
    {
     "name": "stdin",
     "output_type": "stream",
     "text": [
      "Lütfen maaş bilginizi giriniz. 50000\n"
     ]
    },
    {
     "name": "stdout",
     "output_type": "stream",
     "text": [
      "Yeni maasınız: 35000.0\n"
     ]
    }
   ],
   "source": [
    "maas = int(input(\"Lütfen maaş bilginizi giriniz.\"))\n",
    "\n",
    "if maas <= 10000:\n",
    "   yeni_maas = maas - maas*0.05\n",
    "   print(\"Yeni maasınız:\" ,yeni_maas)\n",
    "    \n",
    "elif 10000 < maas <= 25000:\n",
    "    yeni_maas = maas - maas*0.10\n",
    "    print(\"Yeni maasınız:\" ,yeni_maas)\n",
    "\n",
    "elif 25000 < maas <= 45000:\n",
    "     yeni_maas = maas - maas*0.25\n",
    "     print(\"Yeni maasınız:\" ,yeni_maas)\n",
    "\n",
    "else:\n",
    "     yeni_maas = maas - maas*0.30\n",
    "     print(\"Yeni maasınız:\" ,yeni_maas)\n",
    "\n",
    " \n",
    "    "
   ]
  },
  {
   "cell_type": "markdown",
   "id": "9029cc7b-89e9-4eff-96f6-773bb31d90d6",
   "metadata": {},
   "source": [
    "2. Soru"
   ]
  },
  {
   "cell_type": "code",
   "execution_count": 79,
   "id": "cc56b48c-c1ed-4244-98a7-0b57438f3407",
   "metadata": {},
   "outputs": [
    {
     "name": "stdin",
     "output_type": "stream",
     "text": [
      "Bir kullanıcı adınızı belirleyiniz. ayca\n",
      "Bir şifre belirleyiniz 123456\n"
     ]
    },
    {
     "name": "stdout",
     "output_type": "stream",
     "text": [
      "Hesabınız oluşturuldu.\n"
     ]
    }
   ],
   "source": [
    "kullanıcı_adı = (input(\"Bir kullanıcı adınızı belirleyiniz.\"))\n",
    "sifre = input(\"Bir şifre belirleyiniz\")\n",
    "\n",
    "if len(sifre) >= 6:\n",
    "    print(\"Hesabınız oluşturuldu.\")\n",
    "\n",
    "else:\n",
    "    print(\"Altı haneli bir şifre giriniz.\")\n",
    "\n"
   ]
  },
  {
   "cell_type": "markdown",
   "id": "e9b448ee-8a4e-4589-81f2-64eedcceb219",
   "metadata": {},
   "source": [
    "3. Soru"
   ]
  },
  {
   "cell_type": "code",
   "execution_count": 74,
   "id": "ff5fdc3c-da9b-42f2-b3d3-55c9108ff4b3",
   "metadata": {},
   "outputs": [
    {
     "name": "stdin",
     "output_type": "stream",
     "text": [
      "Bir sifre belirleyiniz:  123\n"
     ]
    },
    {
     "name": "stdout",
     "output_type": "stream",
     "text": [
      "Lütfen girdiniz şifre 5 haneden az 10 haneden fazla olmasın!\n"
     ]
    },
    {
     "name": "stdin",
     "output_type": "stream",
     "text": [
      "Bir sifre belirleyiniz:  123456789123456\n"
     ]
    },
    {
     "name": "stdout",
     "output_type": "stream",
     "text": [
      "Lütfen girdiniz şifre 5 haneden az 10 haneden fazla olmasın!\n"
     ]
    },
    {
     "name": "stdin",
     "output_type": "stream",
     "text": [
      "Bir sifre belirleyiniz:  123456\n"
     ]
    },
    {
     "name": "stdout",
     "output_type": "stream",
     "text": [
      "Hesabınız oluşturuldu.\n"
     ]
    }
   ],
   "source": [
    "while True:\n",
    "    sifre = input(\"Bir sifre belirleyiniz: \")\n",
    "\n",
    "    if 5 <= len(sifre) <= 10:\n",
    "        print(\"Hesabınız oluşturuldu.\")\n",
    "        break\n",
    "    else:\n",
    "        print(\"Lütfen girdiniz şifre 5 haneden az 10 haneden fazla olmasın!\")\n",
    "        "
   ]
  },
  {
   "cell_type": "markdown",
   "id": "8b92e07f-2940-41b1-90a5-517c816085ce",
   "metadata": {},
   "source": [
    "4. Soru"
   ]
  },
  {
   "cell_type": "code",
   "execution_count": 13,
   "id": "f0d65838-1bb6-4eb2-bb49-31af0cc423e7",
   "metadata": {},
   "outputs": [
    {
     "name": "stdin",
     "output_type": "stream",
     "text": [
      "Kullanıcı adınızı giriniz. Ayça\n",
      "Şifrenizi giriniz:  123\n"
     ]
    },
    {
     "name": "stdout",
     "output_type": "stream",
     "text": [
      "Yanlış şifre girildi! Kalan hakkınız: 2\n"
     ]
    },
    {
     "name": "stdin",
     "output_type": "stream",
     "text": [
      "Şifrenizi giriniz:  1234\n"
     ]
    },
    {
     "name": "stdout",
     "output_type": "stream",
     "text": [
      "Yanlış şifre girildi! Kalan hakkınız: 1\n"
     ]
    },
    {
     "name": "stdin",
     "output_type": "stream",
     "text": [
      "Şifrenizi giriniz:  123456\n"
     ]
    },
    {
     "name": "stdout",
     "output_type": "stream",
     "text": [
      "Giriş yapıldı.\n"
     ]
    }
   ],
   "source": [
    "kullanıcı_adı = input(\"Kullanıcı adınızı giriniz.\")\n",
    "\n",
    "tanımlı_sifre = \"123456\"\n",
    "\n",
    "deneme_hak = 3\n",
    "\n",
    "while deneme_hak > 0:\n",
    "    \n",
    "    sifre = input(\"Şifrenizi giriniz: \")\n",
    "\n",
    "    if sifre == tanımlı_sifre:\n",
    "        print(\"Giriş yapıldı.\")\n",
    "        break\n",
    "    else:\n",
    "        deneme_hak -= 1\n",
    "        if deneme_hak > 0:\n",
    "            print(f\"Yanlış şifre girildi! Kalan hakkınız: {deneme_hak}\")\n",
    "        else:\n",
    "            print(\"Üç deneme hakkınız bitmiştir.\")\n"
   ]
  },
  {
   "cell_type": "code",
   "execution_count": null,
   "id": "3ccd4a49-314a-478c-b604-5ed53420387d",
   "metadata": {},
   "outputs": [],
   "source": []
  },
  {
   "cell_type": "code",
   "execution_count": null,
   "id": "9412757e-568e-4898-a591-6111d9fd87f8",
   "metadata": {},
   "outputs": [],
   "source": []
  },
  {
   "cell_type": "code",
   "execution_count": null,
   "id": "8a36256c-2866-432d-9cc8-e2c4c2f2bcd0",
   "metadata": {},
   "outputs": [],
   "source": []
  },
  {
   "cell_type": "code",
   "execution_count": null,
   "id": "802aa45c-d97d-4629-909c-93a6b1e7af7c",
   "metadata": {},
   "outputs": [],
   "source": []
  },
  {
   "cell_type": "code",
   "execution_count": null,
   "id": "91cd66af-eafc-4d72-9906-7038f814569b",
   "metadata": {},
   "outputs": [],
   "source": []
  }
 ],
 "metadata": {
  "kernelspec": {
   "display_name": "Python 3 (ipykernel)",
   "language": "python",
   "name": "python3"
  },
  "language_info": {
   "codemirror_mode": {
    "name": "ipython",
    "version": 3
   },
   "file_extension": ".py",
   "mimetype": "text/x-python",
   "name": "python",
   "nbconvert_exporter": "python",
   "pygments_lexer": "ipython3",
   "version": "3.11.7"
  }
 },
 "nbformat": 4,
 "nbformat_minor": 5
}
