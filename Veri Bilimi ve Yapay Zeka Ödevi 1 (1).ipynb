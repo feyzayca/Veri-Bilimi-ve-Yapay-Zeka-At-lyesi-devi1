{
 "cells": [
  {
   "cell_type": "code",
   "execution_count": 143,
   "id": "f8f517f9-f8c4-4a42-9bd4-750bf20debd6",
   "metadata": {},
   "outputs": [],
   "source": [
    "#1"
   ]
  },
  {
   "cell_type": "code",
   "execution_count": 141,
   "id": "f8646ef2-e9a0-4589-af55-912b975662b0",
   "metadata": {},
   "outputs": [],
   "source": [
    "x = 3"
   ]
  },
  {
   "cell_type": "code",
   "execution_count": 23,
   "id": "cce44fb1-b23b-404d-a3c8-2842979d8be1",
   "metadata": {},
   "outputs": [
    {
     "data": {
      "text/plain": [
       "int"
      ]
     },
     "execution_count": 23,
     "metadata": {},
     "output_type": "execute_result"
    }
   ],
   "source": [
    "type(x)"
   ]
  },
  {
   "cell_type": "code",
   "execution_count": 25,
   "id": "31c66427-63e3-46ff-9a7d-9771c47d225c",
   "metadata": {},
   "outputs": [],
   "source": [
    "x = float(x)"
   ]
  },
  {
   "cell_type": "code",
   "execution_count": 27,
   "id": "9353425e-af80-435e-9ec5-03abf9f5eb2a",
   "metadata": {},
   "outputs": [
    {
     "data": {
      "text/plain": [
       "float"
      ]
     },
     "execution_count": 27,
     "metadata": {},
     "output_type": "execute_result"
    }
   ],
   "source": [
    "type(x)"
   ]
  },
  {
   "cell_type": "code",
   "execution_count": 49,
   "id": "340592b9-a876-4f34-bd58-017372e2c429",
   "metadata": {},
   "outputs": [],
   "source": [
    "y = 4.5"
   ]
  },
  {
   "cell_type": "code",
   "execution_count": 51,
   "id": "a6c135e3-7ee0-430c-b066-e54157fa2861",
   "metadata": {},
   "outputs": [
    {
     "data": {
      "text/plain": [
       "float"
      ]
     },
     "execution_count": 51,
     "metadata": {},
     "output_type": "execute_result"
    }
   ],
   "source": [
    "type(y)"
   ]
  },
  {
   "cell_type": "code",
   "execution_count": 53,
   "id": "2def7b6d-2c27-49d4-80b6-36fc7f9d6925",
   "metadata": {},
   "outputs": [],
   "source": [
    "y = int(y)"
   ]
  },
  {
   "cell_type": "code",
   "execution_count": 55,
   "id": "e735f5c5-1d6c-498f-a444-dd9146753c0e",
   "metadata": {},
   "outputs": [
    {
     "data": {
      "text/plain": [
       "int"
      ]
     },
     "execution_count": 55,
     "metadata": {},
     "output_type": "execute_result"
    }
   ],
   "source": [
    "type(y)"
   ]
  },
  {
   "cell_type": "code",
   "execution_count": 35,
   "id": "ff94c952-9ac9-48a5-9055-bcdd525bd354",
   "metadata": {},
   "outputs": [],
   "source": [
    "z = \"8\""
   ]
  },
  {
   "cell_type": "code",
   "execution_count": 37,
   "id": "580b881d-d905-4b69-bc4d-92534d06d5e0",
   "metadata": {},
   "outputs": [
    {
     "data": {
      "text/plain": [
       "str"
      ]
     },
     "execution_count": 37,
     "metadata": {},
     "output_type": "execute_result"
    }
   ],
   "source": [
    "type(z)"
   ]
  },
  {
   "cell_type": "code",
   "execution_count": 39,
   "id": "3c7880bc-84e0-4a55-90aa-40eb59ba1320",
   "metadata": {},
   "outputs": [],
   "source": [
    "z = int(z)"
   ]
  },
  {
   "cell_type": "code",
   "execution_count": 41,
   "id": "81b175b9-e39c-46bb-ab09-41ed53153973",
   "metadata": {},
   "outputs": [
    {
     "data": {
      "text/plain": [
       "int"
      ]
     },
     "execution_count": 41,
     "metadata": {},
     "output_type": "execute_result"
    }
   ],
   "source": [
    "type(z)"
   ]
  },
  {
   "cell_type": "code",
   "execution_count": 43,
   "id": "e5f35ca0-7e9f-4849-a689-9c7240ebe437",
   "metadata": {},
   "outputs": [],
   "source": [
    "a = \"12\""
   ]
  },
  {
   "cell_type": "code",
   "execution_count": 45,
   "id": "330be852-2972-4d7d-9689-16ccc7ef5bc6",
   "metadata": {},
   "outputs": [
    {
     "data": {
      "text/plain": [
       "str"
      ]
     },
     "execution_count": 45,
     "metadata": {},
     "output_type": "execute_result"
    }
   ],
   "source": [
    "type(a)"
   ]
  },
  {
   "cell_type": "code",
   "execution_count": 57,
   "id": "f98e3ac8-ca57-4e43-a0c4-40bda69b862a",
   "metadata": {},
   "outputs": [],
   "source": [
    "a = float(a)"
   ]
  },
  {
   "cell_type": "code",
   "execution_count": 59,
   "id": "e81d4743-3d4a-492e-9b9d-a4c8b4f8192b",
   "metadata": {},
   "outputs": [
    {
     "data": {
      "text/plain": [
       "float"
      ]
     },
     "execution_count": 59,
     "metadata": {},
     "output_type": "execute_result"
    }
   ],
   "source": [
    "type(a)"
   ]
  },
  {
   "cell_type": "code",
   "execution_count": 61,
   "id": "542f6c6c-a981-4c09-b6bd-9979a25d52f5",
   "metadata": {},
   "outputs": [],
   "source": [
    "b = \"46.8\""
   ]
  },
  {
   "cell_type": "code",
   "execution_count": 63,
   "id": "976fc317-5475-46b6-8ee2-93624060e520",
   "metadata": {},
   "outputs": [
    {
     "data": {
      "text/plain": [
       "str"
      ]
     },
     "execution_count": 63,
     "metadata": {},
     "output_type": "execute_result"
    }
   ],
   "source": [
    "type(b)"
   ]
  },
  {
   "cell_type": "code",
   "execution_count": 67,
   "id": "0482aea7-5a52-46c9-bbab-78bcaa769687",
   "metadata": {},
   "outputs": [],
   "source": [
    "b = int (float(b))"
   ]
  },
  {
   "cell_type": "code",
   "execution_count": 69,
   "id": "06eb16ed-1bd7-47f7-aa2c-fd5ad22e72f2",
   "metadata": {},
   "outputs": [
    {
     "data": {
      "text/plain": [
       "int"
      ]
     },
     "execution_count": 69,
     "metadata": {},
     "output_type": "execute_result"
    }
   ],
   "source": [
    "type(b)"
   ]
  },
  {
   "cell_type": "code",
   "execution_count": 71,
   "id": "55fadeba-0aab-4e54-8551-1db0e579be18",
   "metadata": {},
   "outputs": [],
   "source": [
    "#2"
   ]
  },
  {
   "cell_type": "code",
   "execution_count": 73,
   "id": "533ccd3d-db16-4423-b4cd-0398f81e1ed3",
   "metadata": {},
   "outputs": [],
   "source": [
    "feyza = 24\n",
    "duygu = 28\n",
    "beyza = 30"
   ]
  },
  {
   "cell_type": "code",
   "execution_count": 75,
   "id": "0faba1c3-9ced-4836-a698-5125dae7a51b",
   "metadata": {},
   "outputs": [
    {
     "data": {
      "text/plain": [
       "True"
      ]
     },
     "execution_count": 75,
     "metadata": {},
     "output_type": "execute_result"
    }
   ],
   "source": [
    "feyza<duygu"
   ]
  },
  {
   "cell_type": "code",
   "execution_count": 79,
   "id": "c747ba09-7ce1-45b1-a000-0d266f69bbbb",
   "metadata": {},
   "outputs": [
    {
     "data": {
      "text/plain": [
       "False"
      ]
     },
     "execution_count": 79,
     "metadata": {},
     "output_type": "execute_result"
    }
   ],
   "source": [
    "duygu>beyza"
   ]
  },
  {
   "cell_type": "code",
   "execution_count": 81,
   "id": "55bef642-259a-4119-a2e1-cf6da6ee9ecd",
   "metadata": {},
   "outputs": [
    {
     "data": {
      "text/plain": [
       "False"
      ]
     },
     "execution_count": 81,
     "metadata": {},
     "output_type": "execute_result"
    }
   ],
   "source": [
    "feyza==beyza"
   ]
  },
  {
   "cell_type": "code",
   "execution_count": 83,
   "id": "e5a945ee-4aae-4bbf-a003-c24f16f4d23f",
   "metadata": {},
   "outputs": [
    {
     "data": {
      "text/plain": [
       "True"
      ]
     },
     "execution_count": 83,
     "metadata": {},
     "output_type": "execute_result"
    }
   ],
   "source": [
    "feyza<duygu and duygu<beyza"
   ]
  },
  {
   "cell_type": "code",
   "execution_count": 85,
   "id": "e28be2ce-8c4d-484f-951a-39fb60d855ef",
   "metadata": {},
   "outputs": [
    {
     "data": {
      "text/plain": [
       "False"
      ]
     },
     "execution_count": 85,
     "metadata": {},
     "output_type": "execute_result"
    }
   ],
   "source": [
    "feyza<duygu and duygu>beyza"
   ]
  },
  {
   "cell_type": "code",
   "execution_count": 89,
   "id": "7a66b5c4-3b7f-4da4-aea6-80d613844a9c",
   "metadata": {},
   "outputs": [
    {
     "data": {
      "text/plain": [
       "True"
      ]
     },
     "execution_count": 89,
     "metadata": {},
     "output_type": "execute_result"
    }
   ],
   "source": [
    "feyza<duygu or duygu>beyza"
   ]
  },
  {
   "cell_type": "code",
   "execution_count": 91,
   "id": "8f2e06ad-b5ed-4567-97db-e9e075c70dab",
   "metadata": {},
   "outputs": [
    {
     "data": {
      "text/plain": [
       "False"
      ]
     },
     "execution_count": 91,
     "metadata": {},
     "output_type": "execute_result"
    }
   ],
   "source": [
    "feyza>duygu or duygu>beyza"
   ]
  },
  {
   "cell_type": "code",
   "execution_count": 93,
   "id": "7b9f58b9-b8c9-4a33-9583-382d2685ab13",
   "metadata": {},
   "outputs": [
    {
     "data": {
      "text/plain": [
       "False"
      ]
     },
     "execution_count": 93,
     "metadata": {},
     "output_type": "execute_result"
    }
   ],
   "source": [
    "not(feyza<duygu)"
   ]
  },
  {
   "cell_type": "code",
   "execution_count": 97,
   "id": "da82b9de-12f4-4cca-be71-f97875792cb7",
   "metadata": {},
   "outputs": [
    {
     "data": {
      "text/plain": [
       "True"
      ]
     },
     "execution_count": 97,
     "metadata": {},
     "output_type": "execute_result"
    }
   ],
   "source": [
    "not(duygu>beyza)"
   ]
  },
  {
   "cell_type": "code",
   "execution_count": 99,
   "id": "ecb8f846-b003-44e9-b164-1063333589f3",
   "metadata": {},
   "outputs": [],
   "source": [
    "#3"
   ]
  },
  {
   "cell_type": "code",
   "execution_count": 105,
   "id": "9ae1e1e7-9bd1-4e69-a138-8840c4dbccad",
   "metadata": {},
   "outputs": [
    {
     "name": "stdin",
     "output_type": "stream",
     "text": [
      "ilk  sayıyı giriniz 52 \n",
      "ikinci sayıyı giriniz 25\n"
     ]
    },
    {
     "name": "stdout",
     "output_type": "stream",
     "text": [
      "toplama:  77\n",
      "çıkarma:  27\n",
      "çarpma:  1300\n",
      "bölme:  2.08\n"
     ]
    }
   ],
   "source": [
    "sayi1 = int(input(\"ilk  sayıyı giriniz\"))\n",
    "sayi2 = int(input(\"ikinci sayıyı giriniz\"))\n",
    "\n",
    "toplama = sayi1 + sayi2\n",
    "çıkarma = sayi1 - sayi2\n",
    "çarpma = sayi1 * sayi2\n",
    "bölme = sayi1 / sayi2\n",
    "\n",
    "print(\"toplama: \",toplama)\n",
    "print(\"çıkarma: \",çıkarma)\n",
    "print(\"çarpma: \",çarpma)\n",
    "print(\"bölme: \",bölme)"
   ]
  },
  {
   "cell_type": "code",
   "execution_count": 107,
   "id": "2c7babf5-95af-4908-b566-6b2aa2f489c9",
   "metadata": {},
   "outputs": [],
   "source": [
    "#4"
   ]
  },
  {
   "cell_type": "code",
   "execution_count": 111,
   "id": "cd6efa08-aca5-49f1-b8ff-a325feb5739e",
   "metadata": {},
   "outputs": [
    {
     "name": "stdin",
     "output_type": "stream",
     "text": [
      "isminizi giriniz ayça\n",
      "yaşınızı giriniz 25\n",
      "şehrinizi giriniz adana\n",
      "mesleğinizi giriniz sosyolog\n"
     ]
    },
    {
     "name": "stdout",
     "output_type": "stream",
     "text": [
      "isim:  ayça\n",
      "yaş:  25\n",
      "şehir:  adana\n",
      "meslek: sosyolog\n"
     ]
    }
   ],
   "source": [
    "isim = input(\"isminizi giriniz\")\n",
    "yaş = input(\"yaşınızı giriniz\")\n",
    "şehir = input(\"şehrinizi giriniz\")\n",
    "meslek = input(\"mesleğinizi giriniz\")\n",
    "\n",
    "print(\"isim: \",isim)\n",
    "print(\"yaş: \",yaş)\n",
    "print(\"şehir: \",şehir)\n",
    "print(\"meslek:\",meslek)"
   ]
  },
  {
   "cell_type": "code",
   "execution_count": 113,
   "id": "9de17afc-8d24-4a32-b6e1-45f7aff3470b",
   "metadata": {},
   "outputs": [],
   "source": [
    "#5"
   ]
  },
  {
   "cell_type": "code",
   "execution_count": 115,
   "id": "9b0af734-6768-4b17-b1ee-093ce099808d",
   "metadata": {},
   "outputs": [],
   "source": [
    "atolye = \"Yazılımla Güçlenen Kadınlar Veri Bilimi Atölyesi\""
   ]
  },
  {
   "cell_type": "code",
   "execution_count": 123,
   "id": "2ccdacc2-a28a-4f4c-9e22-a19a9b7a28ff",
   "metadata": {},
   "outputs": [
    {
     "name": "stdout",
     "output_type": "stream",
     "text": [
      "Yazılımla Güçlenen Kadınlar\n"
     ]
    }
   ],
   "source": [
    "print(atolye[0:27])"
   ]
  },
  {
   "cell_type": "code",
   "execution_count": 125,
   "id": "30f584fd-d128-48db-b098-6b1c4e3731cc",
   "metadata": {},
   "outputs": [
    {
     "name": "stdout",
     "output_type": "stream",
     "text": [
      "Veri\n"
     ]
    }
   ],
   "source": [
    "print(atolye[28:32])"
   ]
  },
  {
   "cell_type": "code",
   "execution_count": 127,
   "id": "18154002-c758-4879-b21a-49b0e66f4998",
   "metadata": {},
   "outputs": [
    {
     "name": "stdout",
     "output_type": "stream",
     "text": [
      "Bilimi\n"
     ]
    }
   ],
   "source": [
    "print(atolye[33:39])"
   ]
  },
  {
   "cell_type": "code",
   "execution_count": 129,
   "id": "faed247b-4fe3-40c2-aebc-a24cb6841107",
   "metadata": {},
   "outputs": [
    {
     "name": "stdout",
     "output_type": "stream",
     "text": [
      "Atölyesi\n"
     ]
    }
   ],
   "source": [
    "print(atolye[40:48])"
   ]
  },
  {
   "cell_type": "code",
   "execution_count": 131,
   "id": "1b399b1c-37d7-4d42-8927-f1202ccc17c6",
   "metadata": {},
   "outputs": [
    {
     "data": {
      "text/plain": [
       "'YAZILIMLA GÜÇLENEN KADINLAR VERI BILIMI ATÖLYESI'"
      ]
     },
     "execution_count": 131,
     "metadata": {},
     "output_type": "execute_result"
    }
   ],
   "source": [
    "atolye.upper()"
   ]
  },
  {
   "cell_type": "code",
   "execution_count": 133,
   "id": "add7d22c-e2ec-42bd-ba50-df277390a7f6",
   "metadata": {},
   "outputs": [
    {
     "data": {
      "text/plain": [
       "'yazılımla güçlenen kadınlar veri bilimi atölyesi'"
      ]
     },
     "execution_count": 133,
     "metadata": {},
     "output_type": "execute_result"
    }
   ],
   "source": [
    "atolye.lower()"
   ]
  },
  {
   "cell_type": "code",
   "execution_count": 135,
   "id": "0d201367-6d7b-4702-b64f-10670cdedf9b",
   "metadata": {},
   "outputs": [],
   "source": [
    "sayilar = \"0123456789\""
   ]
  },
  {
   "cell_type": "code",
   "execution_count": 137,
   "id": "4812cb07-73db-4a5d-80ea-52af09aea50b",
   "metadata": {},
   "outputs": [
    {
     "data": {
      "text/plain": [
       "'02468'"
      ]
     },
     "execution_count": 137,
     "metadata": {},
     "output_type": "execute_result"
    }
   ],
   "source": [
    "sayilar[0:9:2]"
   ]
  },
  {
   "cell_type": "code",
   "execution_count": 139,
   "id": "54bc0553-008a-4219-9f79-8e7ac2ef3aca",
   "metadata": {},
   "outputs": [
    {
     "data": {
      "text/plain": [
       "'13579'"
      ]
     },
     "execution_count": 139,
     "metadata": {},
     "output_type": "execute_result"
    }
   ],
   "source": [
    "sayilar[1::2]"
   ]
  },
  {
   "cell_type": "code",
   "execution_count": null,
   "id": "06009a68-3fcd-4304-a89a-82073b11dcfe",
   "metadata": {},
   "outputs": [],
   "source": []
  }
 ],
 "metadata": {
  "kernelspec": {
   "display_name": "Python 3 (ipykernel)",
   "language": "python",
   "name": "python3"
  },
  "language_info": {
   "codemirror_mode": {
    "name": "ipython",
    "version": 3
   },
   "file_extension": ".py",
   "mimetype": "text/x-python",
   "name": "python",
   "nbconvert_exporter": "python",
   "pygments_lexer": "ipython3",
   "version": "3.11.7"
  }
 },
 "nbformat": 4,
 "nbformat_minor": 5
}
