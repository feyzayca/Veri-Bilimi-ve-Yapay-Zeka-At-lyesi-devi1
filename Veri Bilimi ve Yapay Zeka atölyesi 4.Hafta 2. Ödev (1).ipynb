{
 "cells": [
  {
   "cell_type": "markdown",
   "id": "5c9457e5-b1f2-4df9-b520-790c54e5842a",
   "metadata": {},
   "source": [
    "1. SORU"
   ]
  },
  {
   "cell_type": "code",
   "execution_count": 4,
   "id": "01d090a5-a3bb-4c89-b5ef-a0abf59a91d1",
   "metadata": {},
   "outputs": [
    {
     "name": "stdin",
     "output_type": "stream",
     "text": [
      "Pi sayısını giriniz:  3.14\n",
      "Yarıçapı giriniz:  4\n"
     ]
    },
    {
     "name": "stdout",
     "output_type": "stream",
     "text": [
      "Dairenin alanı: 50.24\n"
     ]
    }
   ],
   "source": [
    "def dairenin_alanı (pi_sayisi, yaricap):\n",
    "    alan = pi_sayisi * (yaricap ** 2)\n",
    "    return alan\n",
    "    \n",
    "pi_sayisi = float(input(\"Pi sayısını giriniz: \"))\n",
    "yaricap = float(input(\"Yarıçapı giriniz: \"))\n",
    "\n",
    "alan = dairenin_alanı(pi_sayisi, yaricap)\n",
    "print(f\"Dairenin alanı: {alan:.2f}\")\n"
   ]
  },
  {
   "cell_type": "markdown",
   "id": "8497dcd7-9eeb-4720-8fc6-959098809503",
   "metadata": {},
   "source": [
    "2.SORU"
   ]
  },
  {
   "cell_type": "code",
   "execution_count": 11,
   "id": "6072db77-cc58-4a32-a99c-ade783793f35",
   "metadata": {},
   "outputs": [
    {
     "name": "stdin",
     "output_type": "stream",
     "text": [
      "Faktöriyel hesaplamak için bir sayı giriniz: 3\n"
     ]
    },
    {
     "name": "stdout",
     "output_type": "stream",
     "text": [
      "3! = 6\n"
     ]
    }
   ],
   "source": [
    "def faktoriyel(n):\n",
    "    sonuc = 1\n",
    "    for i in range(1, n + 1):\n",
    "        sonuc *= i\n",
    "    return sonuc\n",
    "sayi = int(input(\"Faktöriyel hesaplamak için bir sayı giriniz:\"))\n",
    "faktoriyel_sonuc = faktoriyel(sayi)\n",
    "print(\"{}! = {}\".format(sayi, faktoriyel_sonuc))"
   ]
  },
  {
   "cell_type": "markdown",
   "id": "ffb86c2d-fbf6-46fb-874f-58f3e27c07ad",
   "metadata": {},
   "source": [
    "3.SORU"
   ]
  },
  {
   "cell_type": "code",
   "execution_count": 24,
   "id": "160495de-c9d3-4392-b4f8-f7be9b2316bc",
   "metadata": {},
   "outputs": [
    {
     "name": "stdin",
     "output_type": "stream",
     "text": [
      "Doğum tarihini giriniz: 1998\n"
     ]
    },
    {
     "name": "stdout",
     "output_type": "stream",
     "text": [
      "Yas: 26\n"
     ]
    }
   ],
   "source": [
    "def yas_hesaplama (guncel_yıl, dogum_tarihi):\n",
    "    yas = guncel_yıl - dogum_tarihi\n",
    "    return yas\n",
    "    \n",
    "guncel_yıl = 2024\n",
    "dogum_tarihi = int(input(\"Doğum tarihini giriniz:\"))\n",
    "\n",
    "yas = yas_hesaplama (guncel_yıl, dogum_tarihi)\n",
    "print(f\"Yas: {yas}\")\n"
   ]
  },
  {
   "cell_type": "markdown",
   "id": "a334e281-47cd-45ec-8960-c4a80f876671",
   "metadata": {},
   "source": [
    "4.SORU"
   ]
  },
  {
   "cell_type": "code",
   "execution_count": 58,
   "id": "38cff2f1-4a2a-43b4-afe2-8d42cad3eeac",
   "metadata": {},
   "outputs": [
    {
     "name": "stdin",
     "output_type": "stream",
     "text": [
      "İsminizi giriniz:  Ayça\n",
      "Doğum yılını giriniz:  1998\n"
     ]
    },
    {
     "name": "stdout",
     "output_type": "stream",
     "text": [
      "Ayça emekliliğine 39 yıl kaldı.\n"
     ]
    }
   ],
   "source": [
    "def emeklilik_durumu(isim, guncel_yil, dogum_tarihi):\n",
    "     guncel_yil = 2024\n",
    "     yas = yas_hesaplama(guncel_yil, dogum_tarihi)\n",
    "    \n",
    "     if yas >= 65:\n",
    "        return f\"{isim} emekli oldunuz.\"\n",
    "     else:\n",
    "        yil_kaldi = 65 - yas\n",
    "        return f\"{isim} emekliliğine {yil_kaldi} yıl kaldı.\"\n",
    "\n",
    "isim = input(\"İsminizi giriniz: \")\n",
    "dogum_tarihi = int(input(\"Doğum yılını giriniz: \"))\n",
    "\n",
    "emeklilik_hali = emeklilik_durumu(isim, guncel_yil, dogum_tarihi)\n",
    "print(emeklilik_hali)"
   ]
  },
  {
   "cell_type": "code",
   "execution_count": null,
   "id": "97dac935-3415-4a87-937f-a24d1b6335cd",
   "metadata": {},
   "outputs": [],
   "source": []
  }
 ],
 "metadata": {
  "kernelspec": {
   "display_name": "Python 3 (ipykernel)",
   "language": "python",
   "name": "python3"
  },
  "language_info": {
   "codemirror_mode": {
    "name": "ipython",
    "version": 3
   },
   "file_extension": ".py",
   "mimetype": "text/x-python",
   "name": "python",
   "nbconvert_exporter": "python",
   "pygments_lexer": "ipython3",
   "version": "3.11.7"
  }
 },
 "nbformat": 4,
 "nbformat_minor": 5
}
